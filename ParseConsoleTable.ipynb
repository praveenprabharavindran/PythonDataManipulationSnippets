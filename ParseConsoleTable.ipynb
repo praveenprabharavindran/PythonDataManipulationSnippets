{
  "nbformat": 4,
  "nbformat_minor": 0,
  "metadata": {
    "colab": {
      "provenance": [],
      "authorship_tag": "ABX9TyNcpMdiumryR/biCBGDx8WL",
      "include_colab_link": true
    },
    "kernelspec": {
      "name": "python3",
      "display_name": "Python 3"
    },
    "language_info": {
      "name": "python"
    }
  },
  "cells": [
    {
      "cell_type": "markdown",
      "metadata": {
        "id": "view-in-github",
        "colab_type": "text"
      },
      "source": [
        "<a href=\"https://colab.research.google.com/github/praveenprabharavindran/PythonDataManipulationSnippets/blob/main/ParseConsoleTable.ipynb\" target=\"_parent\"><img src=\"https://colab.research.google.com/assets/colab-badge.svg\" alt=\"Open In Colab\"/></a>"
      ]
    },
    {
      "cell_type": "markdown",
      "source": [
        "* Convert a console table created using +-| to a csv"
      ],
      "metadata": {
        "id": "AGS9SjST3-zT"
      }
    },
    {
      "cell_type": "code",
      "execution_count": 5,
      "metadata": {
        "colab": {
          "base_uri": "https://localhost:8080/"
        },
        "id": "lPoWo0WU39Ct",
        "outputId": "ff952025-6959-4b00-da95-863dabca9c37"
      },
      "outputs": [
        {
          "output_type": "stream",
          "name": "stdout",
          "text": [
            "['       CVE        |  SEVERITY   | CVSS  |   PACKAGE   |        VERSION         | STATUS | PUBLISHED  | DISCOVERED |                    DESCRIPTION                     ']\n",
            "[' CVE-2023-23914   | critical    | 9.10  | package     | 7.74.0-1.3+blah1u7     | open   | 78 days    | < 1 hour   | the elements you want from the different galleries.', ' xvyz code        |             |       | and package3|                        |        |            |            |  Themes and styles also help keep your document    ', '                  |             |       |             |                        |        |            |            | coordinated. When you click Design and choose a new', '                  |             |       |             |                        |        |            |            |  Theme, the pictures, charts, and SmartArt graphics']\n",
            "[' CVE-2022-43552   | high        | 7.50  | xyz package | 7.74.0-1.3+blah1u7     | open   | > 4 months | < 1 hour   | footer, cover page, and text box designs asdf      ', '                  |             |       |             |                        |        |            |            | Themes and styles also help keep your document coo ', '                  |             |       |             |                        |        |            |            | rdinated. charts, and SmartArt graphics change     ', '                  |             |       |             |                        |        |            |            | instructe...                                       ']\n",
            "[' CVE-2022-43541   | high        | 7.50  | xyz package | 7.74.0-1.3+blah1u7     | open   | > 4 months | < 1 hour   | footer, cover page, and text box designs asdf      ', '                  |             |       |             |                        |        |            |            | Themes and styles also help keep your document coo ', '                  |             |       |             |                        |        |            |            | rdinated. charts, and SmartArt graphics change     ', '                  |             |       |             |                        |        |            |            | instructe...                                       ']\n",
            "[['       CVE        |  SEVERITY   | CVSS  |   PACKAGE   |        VERSION         | STATUS | PUBLISHED  | DISCOVERED |                    DESCRIPTION                     '], [' CVE-2023-23914   | critical    | 9.10  | package     | 7.74.0-1.3+blah1u7     | open   | 78 days    | < 1 hour   | the elements you want from the different galleries.', ' xvyz code        |             |       | and package3|                        |        |            |            |  Themes and styles also help keep your document    ', '                  |             |       |             |                        |        |            |            | coordinated. When you click Design and choose a new', '                  |             |       |             |                        |        |            |            |  Theme, the pictures, charts, and SmartArt graphics'], [' CVE-2022-43552   | high        | 7.50  | xyz package | 7.74.0-1.3+blah1u7     | open   | > 4 months | < 1 hour   | footer, cover page, and text box designs asdf      ', '                  |             |       |             |                        |        |            |            | Themes and styles also help keep your document coo ', '                  |             |       |             |                        |        |            |            | rdinated. charts, and SmartArt graphics change     ', '                  |             |       |             |                        |        |            |            | instructe...                                       '], [' CVE-2022-43541   | high        | 7.50  | xyz package | 7.74.0-1.3+blah1u7     | open   | > 4 months | < 1 hour   | footer, cover page, and text box designs asdf      ', '                  |             |       |             |                        |        |            |            | Themes and styles also help keep your document coo ', '                  |             |       |             |                        |        |            |            | rdinated. charts, and SmartArt graphics change     ', '                  |             |       |             |                        |        |            |            | instructe...                                       ']]\n"
          ]
        }
      ],
      "source": [
        "input_text = \"\"\"\n",
        "+------------------+-------------+-------+-------------+------------------------+--------+------------+------------+----------------------------------------------------+\n",
        "|       CVE        |  SEVERITY   | CVSS  |   PACKAGE   |        VERSION         | STATUS | PUBLISHED  | DISCOVERED |                    DESCRIPTION                     |\n",
        "+------------------+-------------+-------+-------------+------------------------+--------+------------+------------+----------------------------------------------------+\n",
        "| CVE-2023-23914   | critical    | 9.10  | package     | 7.74.0-1.3+blah1u7     | open   | 78 days    | < 1 hour   | the elements you want from the different galleries.|\n",
        "| xvyz code        |             |       | and package3|                        |        |            |            |  Themes and styles also help keep your document    |\n",
        "|                  |             |       |             |                        |        |            |            | coordinated. When you click Design and choose a new|\n",
        "|                  |             |       |             |                        |        |            |            |  Theme, the pictures, charts, and SmartArt graphics|\n",
        "+------------------+-------------+-------+-------------+------------------------+--------+------------+------------+----------------------------------------------------+\n",
        "| CVE-2022-43552   | high        | 7.50  | xyz package | 7.74.0-1.3+blah1u7     | open   | > 4 months | < 1 hour   | footer, cover page, and text box designs asdf      |\n",
        "|                  |             |       |             |                        |        |            |            | Themes and styles also help keep your document coo |\n",
        "|                  |             |       |             |                        |        |            |            | rdinated. charts, and SmartArt graphics change     |\n",
        "|                  |             |       |             |                        |        |            |            | instructe...                                       |\n",
        "+------------------+-------------+-------+-------------+------------------------+--------+------------+------------+----------------------------------------------------+\n",
        "| CVE-2022-43541   | high        | 7.50  | xyz package | 7.74.0-1.3+blah1u7     | open   | > 4 months | < 1 hour   | footer, cover page, and text box designs asdf      |\n",
        "|                  |             |       |             |                        |        |            |            | Themes and styles also help keep your document coo |\n",
        "|                  |             |       |             |                        |        |            |            | rdinated. charts, and SmartArt graphics change     |\n",
        "|                  |             |       |             |                        |        |            |            | instructe...                                       |\n",
        "+------------------+-------------+-------+-------------+------------------------+--------+------------+------------+----------------------------------------------------+\n",
        "\"\"\"\n",
        "\n",
        "rows = input_text.split('\\n')\n",
        "\n",
        "def extract_row_data(rows, row_delim, data_delim):\n",
        "    row_data = []\n",
        "    cur_row = []\n",
        "    for row in rows:\n",
        "        if row.startswith(data_delim):   \n",
        "            cur_row.append(row.strip('|'))\n",
        "        if row.startswith(row_delim):\n",
        "            row_data.append(cur_row)\n",
        "            print(cur_row)\n",
        "            cur_row = []\n",
        "    return row_data\n",
        "\n",
        "row_data = extract_row_data(rows[2:-1],'+','|')\n",
        "# print(row_data)"
      ]
    },
    {
      "cell_type": "code",
      "source": [
        "def combine_row_data(row_data, cell_delim):\n",
        "    combined_data = []\n",
        "    for row in row_data:\n",
        "      data = [cell.strip() for cell in row.split(cell_delim)]\n",
        "      if len(combined_data) == 0:\n",
        "          combined_data.extend(data)\n",
        "      else:\n",
        "          for index, cell in enumerate(data):\n",
        "              combined_data[index] += ' ' + cell\n",
        "    return combined_data\n",
        "combined_rows = []\n",
        "for row in row_data: \n",
        " row = combine_row_data(row, '|')\n",
        " combined_rows.append(row)\n"
      ],
      "metadata": {
        "id": "MEXhTnxI5zuc"
      },
      "execution_count": 6,
      "outputs": []
    },
    {
      "cell_type": "code",
      "source": [
        "import pandas as pd\n",
        "\n",
        "# Create a DataFrame from the list of lists\n",
        "df = pd.DataFrame(combined_rows)\n",
        "\n",
        "# Convert the DataFrame to a CSV string\n",
        "csv_string = df.to_csv(sep=',', index=False)\n",
        "\n",
        "# Print the CSV string\n",
        "print(csv_string)\n"
      ],
      "metadata": {
        "colab": {
          "base_uri": "https://localhost:8080/"
        },
        "id": "-bVlhHSsWB46",
        "outputId": "34191fed-e09e-43b8-f1fa-9b2adbcc1a52"
      },
      "execution_count": 8,
      "outputs": [
        {
          "output_type": "stream",
          "name": "stdout",
          "text": [
            "0,1,2,3,4,5,6,7,8\n",
            "CVE,SEVERITY,CVSS,PACKAGE,VERSION,STATUS,PUBLISHED,DISCOVERED,DESCRIPTION\n",
            "CVE-2023-23914 xvyz code  ,critical   ,9.10   ,package and package3  ,7.74.0-1.3+blah1u7   ,open   ,78 days   ,< 1 hour   ,\"the elements you want from the different galleries. Themes and styles also help keep your document coordinated. When you click Design and choose a new Theme, the pictures, charts, and SmartArt graphics\"\n",
            "CVE-2022-43552   ,high   ,7.50   ,xyz package   ,7.74.0-1.3+blah1u7   ,open   ,> 4 months   ,< 1 hour   ,\"footer, cover page, and text box designs asdf Themes and styles also help keep your document coo rdinated. charts, and SmartArt graphics change instructe...\"\n",
            "CVE-2022-43541   ,high   ,7.50   ,xyz package   ,7.74.0-1.3+blah1u7   ,open   ,> 4 months   ,< 1 hour   ,\"footer, cover page, and text box designs asdf Themes and styles also help keep your document coo rdinated. charts, and SmartArt graphics change instructe...\"\n",
            "\n"
          ]
        }
      ]
    }
  ]
}